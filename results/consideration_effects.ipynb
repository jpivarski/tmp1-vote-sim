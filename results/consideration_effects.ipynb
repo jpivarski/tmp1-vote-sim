{
 "cells": [
  {
   "cell_type": "code",
   "execution_count": 12,
   "metadata": {},
   "outputs": [],
   "source": [
    "import numpy as np\n",
    "import tomlkit\n",
    "import pandas as pd\n",
    "import yaml\n",
    "from IPython.display import display\n",
    "import importlib\n",
    "import copy\n",
    "\n",
    "import study_lib"
   ]
  },
  {
   "cell_type": "code",
   "execution_count": 9,
   "metadata": {},
   "outputs": [],
   "source": [
    "base_config_yaml = \"\"\"\n",
    "candidates: 5\n",
    "voters: 555\n",
    "considerations:\n",
    "- Likability:\n",
    "    mean: 0.25\n",
    "- Irrational:\n",
    "    sigma: 1.0\n",
    "    camps: 7\n",
    "    individualism_deg: 30\n",
    "- Issues:\n",
    "    issues:\n",
    "    - sigma: 1.0\n",
    "      halfcsep: 1.5\n",
    "      halfvsep: 2.0\n",
    "    - sigma: 0.5\n",
    "      halfcsep: 1.0\n",
    "      halfvsep: 1.0\n",
    "    - sigma: 0.5\n",
    "      halfcsep: 2.0\n",
    "      halfvsep: 2.0\n",
    "methods:\n",
    "- Plurality:\n",
    "    strat: Honest\n",
    "- Plurality:\n",
    "    strat: Strategic\n",
    "- Range:\n",
    "    nranks: 10\n",
    "    strat: Honest\n",
    "- Range:\n",
    "    nranks: 10\n",
    "    strat: Strategic\n",
    "    strategic_stretch_factor: 1.5\n",
    "- Range:\n",
    "    nranks: 2\n",
    "    strat: Honest\n",
    "- Range:\n",
    "    nranks: 2\n",
    "    strat: Strategic\n",
    "    strategic_stretch_factor: 4.0\n",
    "- InstantRunoff: {}\n",
    "- STAR:\n",
    "    strat: Honest\n",
    "- STAR:\n",
    "    strat: Strategic\n",
    "    strategic_stretch_factor: 1.5\n",
    "\"\"\"\n",
    "config = yaml.safe_load(base_config_yaml)"
   ]
  },
  {
   "cell_type": "code",
   "execution_count": 6,
   "metadata": {},
   "outputs": [],
   "source": [
    "importlib.reload(study_lib)\n",
    "do_run = study_lib.do_run \n",
    "get_fields = study_lib.get_fields\n",
    "run_experiment = study_lib.run_experiment\n",
    "cs = study_lib.config_series"
   ]
  },
  {
   "cell_type": "code",
   "execution_count": 10,
   "metadata": {},
   "outputs": [
    {
     "data": {
      "text/html": [
       "<div>\n",
       "<style scoped>\n",
       "    .dataframe tbody tr th:only-of-type {\n",
       "        vertical-align: middle;\n",
       "    }\n",
       "\n",
       "    .dataframe tbody tr th {\n",
       "        vertical-align: top;\n",
       "    }\n",
       "\n",
       "    .dataframe thead th {\n",
       "        text-align: right;\n",
       "    }\n",
       "</style>\n",
       "<table border=\"1\" class=\"dataframe\">\n",
       "  <thead>\n",
       "    <tr style=\"text-align: right;\">\n",
       "      <th></th>\n",
       "      <th>candidates</th>\n",
       "      <th>pl_h_mR</th>\n",
       "      <th>pl_h_pi</th>\n",
       "      <th>pl_s_mR</th>\n",
       "      <th>pl_s_pi</th>\n",
       "      <th>range_10_h_mR</th>\n",
       "      <th>range_10_h_pi</th>\n",
       "      <th>range_10_s_mR</th>\n",
       "      <th>range_10_s_pi</th>\n",
       "      <th>aprv_h_mR</th>\n",
       "      <th>aprv_h_pi</th>\n",
       "      <th>aprv_s_mR</th>\n",
       "      <th>aprv_s_pi</th>\n",
       "      <th>IRV_h_mR</th>\n",
       "      <th>IRV_h_pi</th>\n",
       "      <th>star_6_h_mR</th>\n",
       "      <th>star_6_h_pi</th>\n",
       "      <th>star_6_s_mR</th>\n",
       "      <th>star_6_s_pi</th>\n",
       "    </tr>\n",
       "  </thead>\n",
       "  <tbody>\n",
       "    <tr>\n",
       "      <th>0</th>\n",
       "      <td>2</td>\n",
       "      <td>0.098800</td>\n",
       "      <td>95.060</td>\n",
       "      <td>0.098800</td>\n",
       "      <td>95.060</td>\n",
       "      <td>0.098800</td>\n",
       "      <td>95.06</td>\n",
       "      <td>0.098800</td>\n",
       "      <td>95.060</td>\n",
       "      <td>0.098800</td>\n",
       "      <td>95.060</td>\n",
       "      <td>0.098800</td>\n",
       "      <td>95.060</td>\n",
       "      <td>0.098800</td>\n",
       "      <td>95.060</td>\n",
       "      <td>0.098800</td>\n",
       "      <td>95.060</td>\n",
       "      <td>0.098800</td>\n",
       "      <td>95.060</td>\n",
       "    </tr>\n",
       "    <tr>\n",
       "      <th>1</th>\n",
       "      <td>3</td>\n",
       "      <td>0.270134</td>\n",
       "      <td>75.620</td>\n",
       "      <td>0.061412</td>\n",
       "      <td>90.555</td>\n",
       "      <td>0.028775</td>\n",
       "      <td>92.97</td>\n",
       "      <td>0.026235</td>\n",
       "      <td>93.670</td>\n",
       "      <td>0.030271</td>\n",
       "      <td>93.045</td>\n",
       "      <td>0.033494</td>\n",
       "      <td>93.150</td>\n",
       "      <td>0.062691</td>\n",
       "      <td>90.495</td>\n",
       "      <td>0.031671</td>\n",
       "      <td>93.480</td>\n",
       "      <td>0.033707</td>\n",
       "      <td>93.095</td>\n",
       "    </tr>\n",
       "    <tr>\n",
       "      <th>2</th>\n",
       "      <td>4</td>\n",
       "      <td>0.271646</td>\n",
       "      <td>69.060</td>\n",
       "      <td>0.067976</td>\n",
       "      <td>86.420</td>\n",
       "      <td>0.018384</td>\n",
       "      <td>92.21</td>\n",
       "      <td>0.016475</td>\n",
       "      <td>92.985</td>\n",
       "      <td>0.023352</td>\n",
       "      <td>91.055</td>\n",
       "      <td>0.022504</td>\n",
       "      <td>92.050</td>\n",
       "      <td>0.054008</td>\n",
       "      <td>87.915</td>\n",
       "      <td>0.019985</td>\n",
       "      <td>92.460</td>\n",
       "      <td>0.022196</td>\n",
       "      <td>92.000</td>\n",
       "    </tr>\n",
       "    <tr>\n",
       "      <th>3</th>\n",
       "      <td>5</td>\n",
       "      <td>0.291097</td>\n",
       "      <td>62.620</td>\n",
       "      <td>0.089046</td>\n",
       "      <td>81.005</td>\n",
       "      <td>0.014469</td>\n",
       "      <td>91.59</td>\n",
       "      <td>0.012359</td>\n",
       "      <td>92.580</td>\n",
       "      <td>0.020815</td>\n",
       "      <td>89.535</td>\n",
       "      <td>0.018996</td>\n",
       "      <td>90.715</td>\n",
       "      <td>0.053992</td>\n",
       "      <td>85.075</td>\n",
       "      <td>0.015777</td>\n",
       "      <td>91.675</td>\n",
       "      <td>0.019103</td>\n",
       "      <td>90.700</td>\n",
       "    </tr>\n",
       "    <tr>\n",
       "      <th>4</th>\n",
       "      <td>6</td>\n",
       "      <td>0.288888</td>\n",
       "      <td>58.845</td>\n",
       "      <td>0.109776</td>\n",
       "      <td>76.830</td>\n",
       "      <td>0.012475</td>\n",
       "      <td>91.63</td>\n",
       "      <td>0.010945</td>\n",
       "      <td>92.170</td>\n",
       "      <td>0.021126</td>\n",
       "      <td>88.390</td>\n",
       "      <td>0.016927</td>\n",
       "      <td>90.370</td>\n",
       "      <td>0.053940</td>\n",
       "      <td>83.325</td>\n",
       "      <td>0.014438</td>\n",
       "      <td>91.115</td>\n",
       "      <td>0.016636</td>\n",
       "      <td>90.280</td>\n",
       "    </tr>\n",
       "  </tbody>\n",
       "</table>\n",
       "</div>"
      ],
      "text/plain": [
       "   candidates   pl_h_mR  pl_h_pi   pl_s_mR  pl_s_pi  range_10_h_mR  \\\n",
       "0           2  0.098800   95.060  0.098800   95.060       0.098800   \n",
       "1           3  0.270134   75.620  0.061412   90.555       0.028775   \n",
       "2           4  0.271646   69.060  0.067976   86.420       0.018384   \n",
       "3           5  0.291097   62.620  0.089046   81.005       0.014469   \n",
       "4           6  0.288888   58.845  0.109776   76.830       0.012475   \n",
       "\n",
       "   range_10_h_pi  range_10_s_mR  range_10_s_pi  aprv_h_mR  aprv_h_pi  \\\n",
       "0          95.06       0.098800         95.060   0.098800     95.060   \n",
       "1          92.97       0.026235         93.670   0.030271     93.045   \n",
       "2          92.21       0.016475         92.985   0.023352     91.055   \n",
       "3          91.59       0.012359         92.580   0.020815     89.535   \n",
       "4          91.63       0.010945         92.170   0.021126     88.390   \n",
       "\n",
       "   aprv_s_mR  aprv_s_pi  IRV_h_mR  IRV_h_pi  star_6_h_mR  star_6_h_pi  \\\n",
       "0   0.098800     95.060  0.098800    95.060     0.098800       95.060   \n",
       "1   0.033494     93.150  0.062691    90.495     0.031671       93.480   \n",
       "2   0.022504     92.050  0.054008    87.915     0.019985       92.460   \n",
       "3   0.018996     90.715  0.053992    85.075     0.015777       91.675   \n",
       "4   0.016927     90.370  0.053940    83.325     0.014438       91.115   \n",
       "\n",
       "   star_6_s_mR  star_6_s_pi  \n",
       "0     0.098800       95.060  \n",
       "1     0.033707       93.095  \n",
       "2     0.022196       92.000  \n",
       "3     0.019103       90.700  \n",
       "4     0.016636       90.280  "
      ]
     },
     "execution_count": 10,
     "metadata": {},
     "output_type": "execute_result"
    }
   ],
   "source": [
    "df = run_experiment(cs(config, 'candidates', [2, 3, 4, 5, 6]), trials=20000)\n",
    "df"
   ]
  },
  {
   "cell_type": "code",
   "execution_count": 19,
   "metadata": {},
   "outputs": [
    {
     "data": {
      "text/html": [
       "<pre>[0,\n",
       " 1.16,\n",
       " 1.71,\n",
       " 1.13]\n",
       "------------------\n",
       "type: 4 * ?float64</pre>"
      ],
      "text/plain": [
       "<Array [0, 1.16, 1.71, 1.13] type='4 * ?float64'>"
      ]
     },
     "metadata": {},
     "output_type": "display_data"
    },
    {
     "data": {
      "text/html": [
       "<pre>[[0],\n",
       " [0, 0],\n",
       " [0, 0, 0],\n",
       " [0, 0, 0, 0]]\n",
       "--------------------------------\n",
       "type: 4 * option[var * ?float64]</pre>"
      ],
      "text/plain": [
       "<Array [[0], [0, 0], [...], [0, 0, 0, 0]] type='4 * option[var * ?float64]'>"
      ]
     },
     "metadata": {},
     "output_type": "display_data"
    }
   ],
   "source": [
    "config_like_only = copy.deepcopy(config)\n",
    "config_like_only['candidates'] = 4\n",
    "config_like_only['considerations'] = yaml.safe_load(\n",
    "'''\n",
    "- Likability:\n",
    "    mean: 1.0\n",
    "'''\n",
    ")\n",
    "result = do_run(config_like_only, 5)\n",
    "display(result['cand_regret'][0])\n",
    "display(result['cov_matrix'][0])"
   ]
  },
  {
   "cell_type": "markdown",
   "metadata": {},
   "source": [
    "With likability as the only consideration, all voter sets of utilities are identical to each other. Variances and covariances are zero."
   ]
  },
  {
   "cell_type": "code",
   "execution_count": 20,
   "metadata": {},
   "outputs": [],
   "source": [
    "def get_corr_coeffs(result, trial_no):\n",
    "    covm = result['cov_matrix'][trial_no]\n",
    "    ncand = len(covm)\n",
    "    cc = np.eye(ncand, dtype=np.float64)\n",
    "    sigmas = []\n",
    "    for i in range(ncand):\n",
    "        sigmas.append(np.sqrt(covm[(i, i)]))\n",
    "    # print(sigmas)\n",
    "    for ix in range(ncand):\n",
    "        for iy in range(ix):\n",
    "            cc[(ix, iy)] = covm[(ix, iy)] / sigmas[ix] / sigmas[iy]\n",
    "    return cc"
   ]
  },
  {
   "cell_type": "code",
   "execution_count": 21,
   "metadata": {},
   "outputs": [
    {
     "name": "stderr",
     "output_type": "stream",
     "text": [
      "/tmp/ipykernel_202370/3163430169.py:11: RuntimeWarning: invalid value encountered in scalar divide\n",
      "  cc[(ix, iy)] = covm[(ix, iy)] / sigmas[ix] / sigmas[iy]\n"
     ]
    },
    {
     "data": {
      "text/plain": [
       "array([[ 1.,  0.,  0.,  0.],\n",
       "       [nan,  1.,  0.,  0.],\n",
       "       [nan, nan,  1.,  0.],\n",
       "       [nan, nan, nan,  1.]])"
      ]
     },
     "metadata": {},
     "output_type": "display_data"
    }
   ],
   "source": [
    "display(get_corr_coeffs(result, 0))"
   ]
  },
  {
   "cell_type": "code",
   "execution_count": 25,
   "metadata": {},
   "outputs": [
    {
     "data": {
      "text/plain": [
       "array([[ 1.00000000e+00,  0.00000000e+00,  0.00000000e+00,\n",
       "         0.00000000e+00],\n",
       "       [ 4.42752037e-04,  1.00000000e+00,  0.00000000e+00,\n",
       "         0.00000000e+00],\n",
       "       [ 1.29308904e-03,  1.46733920e-03,  1.00000000e+00,\n",
       "         0.00000000e+00],\n",
       "       [ 5.90097806e-04,  3.55551757e-03, -1.01498929e-03,\n",
       "         1.00000000e+00]])"
      ]
     },
     "metadata": {},
     "output_type": "display_data"
    },
    {
     "data": {
      "text/plain": [
       "array([[ 1.        ,  0.        ,  0.        ,  0.        ],\n",
       "       [ 0.0032342 ,  1.        ,  0.        ,  0.        ],\n",
       "       [ 0.00343857, -0.00119389,  1.        ,  0.        ],\n",
       "       [ 0.0019555 ,  0.00102327,  0.00328124,  1.        ]])"
      ]
     },
     "metadata": {},
     "output_type": "display_data"
    }
   ],
   "source": [
    "config_irr = copy.deepcopy(config)\n",
    "config_irr['candidates'] = 4\n",
    "config_irr['voters'] = 100001\n",
    "config_irr['considerations'] = yaml.safe_load(\n",
    "'''\n",
    "- Irrational:\n",
    "    sigma: 1.0\n",
    "    camps: 2\n",
    "    individualism_deg: 90\n",
    "'''\n",
    ")\n",
    "result = do_run(config_irr, 5)\n",
    "display(get_corr_coeffs(result, 0))\n",
    "display(get_corr_coeffs(result, 1))\n"
   ]
  },
  {
   "cell_type": "markdown",
   "metadata": {},
   "source": [
    "Good. Correlation coefficients are very small, because irrational voters (all independent) have utilities that are uncorrelated with those of other voters."
   ]
  },
  {
   "cell_type": "markdown",
   "metadata": {},
   "source": [
    "### This ended up being fodder for a unit test of the Irrational consideration"
   ]
  },
  {
   "cell_type": "code",
   "execution_count": 200,
   "metadata": {},
   "outputs": [
    {
     "data": {
      "text/plain": [
       "array([[0.3090016 , 2.09904798, 0.82317008, 3.13087807, 1.61064933,\n",
       "        2.01657254, 2.91759999, 1.55519431, 2.89235991, 2.97551052],\n",
       "       [2.24721985, 2.65914812, 1.86329343, 2.21673783, 0.84797068,\n",
       "        0.56396652, 0.44596168, 3.40639598, 0.65299382, 1.77379581],\n",
       "       [0.58539738, 1.22377722, 3.06071522, 1.3184892 , 0.48842566,\n",
       "        0.79741721, 2.61924207, 3.07438678, 1.22978133, 3.12792367],\n",
       "       [2.85872826, 0.52028883, 1.38963001, 0.35922687, 0.16900879,\n",
       "        1.34662276, 0.17156912, 1.73254542, 1.48895542, 1.27941031],\n",
       "       [0.78623712, 0.66519608, 1.30919134, 2.73176796, 1.99823116,\n",
       "        3.12736477, 3.38542127, 1.83569564, 3.25960743, 1.54455224]])"
      ]
     },
     "execution_count": 200,
     "metadata": {},
     "output_type": "execute_result"
    }
   ],
   "source": [
    "utilities = np.random.uniform(0., np.sqrt(12.), 50)\n",
    "utilities = np.reshape(utilities, newshape=(5, 10))\n",
    "utilities"
   ]
  },
  {
   "cell_type": "code",
   "execution_count": 201,
   "metadata": {},
   "outputs": [
    {
     "name": "stdout",
     "output_type": "stream",
     "text": [
      "[[0.3090016  2.24721985 0.58539738 2.85872826 0.78623712]\n",
      " [2.09904798 2.65914812 1.22377722 0.52028883 0.66519608]\n",
      " [0.82317008 1.86329343 3.06071522 1.38963001 1.30919134]\n",
      " [3.13087807 2.21673783 1.3184892  0.35922687 2.73176796]\n",
      " [1.61064933 0.84797068 0.48842566 0.16900879 1.99823116]\n",
      " [2.01657254 0.56396652 0.79741721 1.34662276 3.12736477]\n",
      " [2.91759999 0.44596168 2.61924207 0.17156912 3.38542127]\n",
      " [1.55519431 3.40639598 3.07438678 1.73254542 1.83569564]\n",
      " [2.89235991 0.65299382 1.22978133 1.48895542 3.25960743]\n",
      " [2.97551052 1.77379581 3.12792367 1.27941031 1.54455224]]\n"
     ]
    }
   ],
   "source": [
    "np.set_printoptions(threshold=100000)\n",
    "print(str(utilities.transpose()))"
   ]
  },
  {
   "cell_type": "code",
   "execution_count": 202,
   "metadata": {},
   "outputs": [
    {
     "data": {
      "text/plain": [
       "array([[ 0.94020538, -0.32073684,  0.16108757, -0.49611513,  0.62033183],\n",
       "       [-0.32073684,  1.01169877,  0.31368278,  0.27153381, -0.70086438],\n",
       "       [ 0.16108757,  0.31368278,  1.19057637, -0.00328159, -0.05275154],\n",
       "       [-0.49611513,  0.27153381, -0.00328159,  0.71388613, -0.31396175],\n",
       "       [ 0.62033183, -0.70086438, -0.05275154, -0.31396175,  1.02640331]])"
      ]
     },
     "execution_count": 202,
     "metadata": {},
     "output_type": "execute_result"
    }
   ],
   "source": [
    "np.cov(utilities)"
   ]
  },
  {
   "cell_type": "code",
   "execution_count": 220,
   "metadata": {},
   "outputs": [
    {
     "data": {
      "text/plain": [
       "array([[ 0.99333244, -0.00444264,  0.01690256,  0.0234099 , -0.03744667],\n",
       "       [-0.00444264,  1.01777285, -0.02395978, -0.02019903, -0.06810528],\n",
       "       [ 0.01690256, -0.02395978,  0.99728841, -0.08037311, -0.03790731],\n",
       "       [ 0.0234099 , -0.02019903, -0.08037311,  1.00854158,  0.02726133],\n",
       "       [-0.03744667, -0.06810528, -0.03790731,  0.02726133,  0.99367376]])"
      ]
     },
     "execution_count": 220,
     "metadata": {},
     "output_type": "execute_result"
    }
   ],
   "source": [
    "utilities = np.random.uniform(0., np.sqrt(12.), 5000)\n",
    "utilities = np.reshape(utilities, newshape=(5, 1000))\n",
    "np.cov(utilities)"
   ]
  },
  {
   "cell_type": "code",
   "execution_count": 26,
   "metadata": {},
   "outputs": [
    {
     "data": {
      "text/plain": [
       "array([[ 1.        ,  0.        ,  0.        ,  0.        ],\n",
       "       [ 0.98468755,  1.        ,  0.        ,  0.        ],\n",
       "       [ 0.74049005,  0.62866996,  1.        ,  0.        ],\n",
       "       [-0.70489478, -0.79665994, -0.14975502,  1.        ]])"
      ]
     },
     "metadata": {},
     "output_type": "display_data"
    },
    {
     "data": {
      "text/plain": [
       "array([[ 1.        ,  0.        ,  0.        ,  0.        ],\n",
       "       [-0.47824243,  1.        ,  0.        ,  0.        ],\n",
       "       [ 0.98398031, -0.34422532,  1.        ,  0.        ],\n",
       "       [-0.32372876,  0.97522388, -0.18019318,  1.        ]])"
      ]
     },
     "metadata": {},
     "output_type": "display_data"
    }
   ],
   "source": [
    "config_issue = copy.deepcopy(config)\n",
    "config_issue['candidates'] = 4\n",
    "config_issue['voters'] = 100001\n",
    "config_issue['considerations'] = yaml.safe_load(\n",
    "'''\n",
    "- Issues:\n",
    "    issues:\n",
    "    - halfcsep: 1.0\n",
    "      halfvsep: 1.0\n",
    "      sigma: 1.0\n",
    "'''\n",
    ")\n",
    "result = do_run(config_issue, 5)\n",
    "display(get_corr_coeffs(result, 0))\n",
    "display(get_corr_coeffs(result, 1))\n",
    "# display(get_corr_coeffs(result, 2))\n",
    "# display(get_corr_coeffs(result, 3))"
   ]
  },
  {
   "cell_type": "markdown",
   "metadata": {},
   "source": [
    "When there's a political axis, voters are much more significantly correlated with each other."
   ]
  },
  {
   "cell_type": "code",
   "execution_count": null,
   "metadata": {},
   "outputs": [],
   "source": [
    "df = run_experiment(cs(config, 'candidates', [2, 3, 4, 5, 6]), trials=20000)\n",
    "df"
   ]
  }
 ],
 "metadata": {
  "kernelspec": {
   "display_name": "env",
   "language": "python",
   "name": "python3"
  },
  "language_info": {
   "codemirror_mode": {
    "name": "ipython",
    "version": 3
   },
   "file_extension": ".py",
   "mimetype": "text/x-python",
   "name": "python",
   "nbconvert_exporter": "python",
   "pygments_lexer": "ipython3",
   "version": "3.12.6"
  }
 },
 "nbformat": 4,
 "nbformat_minor": 2
}
