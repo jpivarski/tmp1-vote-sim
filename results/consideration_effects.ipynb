{
 "cells": [
  {
   "cell_type": "code",
   "execution_count": 144,
   "metadata": {},
   "outputs": [],
   "source": [
    "from tempfile import TemporaryDirectory\n",
    "from pathlib import Path\n",
    "import subprocess\n",
    "\n",
    "import numpy as np\n",
    "import tomlkit\n",
    "import awkward as ak\n",
    "import pandas as pd\n",
    "import yaml\n",
    "from IPython.display import display"
   ]
  },
  {
   "cell_type": "code",
   "execution_count": 241,
   "metadata": {},
   "outputs": [],
   "source": [
    "with open('../configs/default.toml', 'r') as fin:\n",
    "    config = tomlkit.load(fin)\n",
    "VOTING = '../target/release/voting'"
   ]
  },
  {
   "cell_type": "code",
   "execution_count": 221,
   "metadata": {},
   "outputs": [],
   "source": [
    "def do_run(config, trials) -> ak.Array:\n",
    "    with TemporaryDirectory() as temp_dir:\n",
    "        temp_dir = Path(temp_dir)\n",
    "        config_file = temp_dir / 'config.toml'\n",
    "        with open(config_file, 'w') as fout:\n",
    "            tomlkit.dump(config, fout)\n",
    "        pq_file = temp_dir / 'results.parquet'\n",
    "        cp = subprocess.run([\n",
    "            VOTING,\n",
    "            '-c', config_file,\n",
    "            '-o', pq_file,\n",
    "            '-t', str(trials),\n",
    "        ], check=True, capture_output=True)\n",
    "        if cp.returncode != 0:\n",
    "            print(cp.stderr)\n",
    "            return None\n",
    "        results = ak.from_parquet(pq_file)\n",
    "    return results"
   ]
  },
  {
   "cell_type": "code",
   "execution_count": 206,
   "metadata": {},
   "outputs": [],
   "source": [
    "def get_fields(results):\n",
    "    return list(filter(lambda fn: fn.startswith('m:'), results.fields))     "
   ]
  },
  {
   "cell_type": "code",
   "execution_count": 224,
   "metadata": {},
   "outputs": [],
   "source": [
    "def run_experiment(config, parameter, pvalues, trials=2000):\n",
    "    fields = None\n",
    "    col_names = None\n",
    "    regrets = []\n",
    "    parameters = [int(p) if p.isnumeric() else p for p in parameter.split('.')]\n",
    "    last_parameter = parameters.pop()\n",
    "    for val in pvalues:\n",
    "        conf_item = config\n",
    "        for p in parameters:  # drill down into config\n",
    "            conf_item = conf_item[p]\n",
    "        conf_item[last_parameter] = val\n",
    "        results = do_run(config, trials)\n",
    "        if fields is None:\n",
    "            fields = get_fields(results)\n",
    "            col_names = [f[2:] for f in fields]\n",
    "        regrets.append([val] + [ak.mean(results[f]['regret']) for f in fields])\n",
    "    return pd.DataFrame(regrets, columns=[parameter] + col_names)"
   ]
  },
  {
   "cell_type": "code",
   "execution_count": 225,
   "metadata": {},
   "outputs": [
    {
     "data": {
      "text/html": [
       "<div>\n",
       "<style scoped>\n",
       "    .dataframe tbody tr th:only-of-type {\n",
       "        vertical-align: middle;\n",
       "    }\n",
       "\n",
       "    .dataframe tbody tr th {\n",
       "        vertical-align: top;\n",
       "    }\n",
       "\n",
       "    .dataframe thead th {\n",
       "        text-align: right;\n",
       "    }\n",
       "</style>\n",
       "<table border=\"1\" class=\"dataframe\">\n",
       "  <thead>\n",
       "    <tr style=\"text-align: right;\">\n",
       "      <th></th>\n",
       "      <th>candidates</th>\n",
       "      <th>pl_h</th>\n",
       "      <th>pl_s</th>\n",
       "      <th>range_10_h</th>\n",
       "      <th>range_10_s</th>\n",
       "      <th>aprv_h</th>\n",
       "      <th>aprv_s</th>\n",
       "      <th>IRV_h</th>\n",
       "      <th>Borda_h</th>\n",
       "      <th>multi_h_3v</th>\n",
       "    </tr>\n",
       "  </thead>\n",
       "  <tbody>\n",
       "    <tr>\n",
       "      <th>0</th>\n",
       "      <td>2</td>\n",
       "      <td>0.174000</td>\n",
       "      <td>0.174000</td>\n",
       "      <td>0.174000</td>\n",
       "      <td>0.174000</td>\n",
       "      <td>0.174000</td>\n",
       "      <td>0.174000</td>\n",
       "      <td>0.174000</td>\n",
       "      <td>0.174000</td>\n",
       "      <td>0.174000</td>\n",
       "    </tr>\n",
       "    <tr>\n",
       "      <th>1</th>\n",
       "      <td>3</td>\n",
       "      <td>0.578939</td>\n",
       "      <td>0.219201</td>\n",
       "      <td>0.105181</td>\n",
       "      <td>0.070680</td>\n",
       "      <td>0.089072</td>\n",
       "      <td>0.084015</td>\n",
       "      <td>0.218270</td>\n",
       "      <td>0.167260</td>\n",
       "      <td>0.335496</td>\n",
       "    </tr>\n",
       "    <tr>\n",
       "      <th>2</th>\n",
       "      <td>4</td>\n",
       "      <td>0.634941</td>\n",
       "      <td>0.244819</td>\n",
       "      <td>0.072011</td>\n",
       "      <td>0.049376</td>\n",
       "      <td>0.079200</td>\n",
       "      <td>0.060734</td>\n",
       "      <td>0.253010</td>\n",
       "      <td>0.129646</td>\n",
       "      <td>0.207927</td>\n",
       "    </tr>\n",
       "    <tr>\n",
       "      <th>3</th>\n",
       "      <td>5</td>\n",
       "      <td>0.671219</td>\n",
       "      <td>0.275642</td>\n",
       "      <td>0.060983</td>\n",
       "      <td>0.047957</td>\n",
       "      <td>0.080293</td>\n",
       "      <td>0.055073</td>\n",
       "      <td>0.279514</td>\n",
       "      <td>0.114746</td>\n",
       "      <td>0.286294</td>\n",
       "    </tr>\n",
       "    <tr>\n",
       "      <th>4</th>\n",
       "      <td>6</td>\n",
       "      <td>0.659681</td>\n",
       "      <td>0.316442</td>\n",
       "      <td>0.051909</td>\n",
       "      <td>0.049277</td>\n",
       "      <td>0.088585</td>\n",
       "      <td>0.057836</td>\n",
       "      <td>0.307957</td>\n",
       "      <td>0.105407</td>\n",
       "      <td>0.171682</td>\n",
       "    </tr>\n",
       "  </tbody>\n",
       "</table>\n",
       "</div>"
      ],
      "text/plain": [
       "   candidates      pl_h      pl_s  range_10_h  range_10_s    aprv_h    aprv_s  \\\n",
       "0           2  0.174000  0.174000    0.174000    0.174000  0.174000  0.174000   \n",
       "1           3  0.578939  0.219201    0.105181    0.070680  0.089072  0.084015   \n",
       "2           4  0.634941  0.244819    0.072011    0.049376  0.079200  0.060734   \n",
       "3           5  0.671219  0.275642    0.060983    0.047957  0.080293  0.055073   \n",
       "4           6  0.659681  0.316442    0.051909    0.049277  0.088585  0.057836   \n",
       "\n",
       "      IRV_h   Borda_h  multi_h_3v  \n",
       "0  0.174000  0.174000    0.174000  \n",
       "1  0.218270  0.167260    0.335496  \n",
       "2  0.253010  0.129646    0.207927  \n",
       "3  0.279514  0.114746    0.286294  \n",
       "4  0.307957  0.105407    0.171682  "
      ]
     },
     "execution_count": 225,
     "metadata": {},
     "output_type": "execute_result"
    }
   ],
   "source": [
    "config['voters'] = 333\n",
    "df = run_experiment(config, 'candidates', [2, 3, 4, 5, 6])\n",
    "df"
   ]
  },
  {
   "cell_type": "code",
   "execution_count": 236,
   "metadata": {},
   "outputs": [
    {
     "data": {
      "text/html": [
       "<pre>[0,\n",
       " 0.00892,\n",
       " 1.99,\n",
       " 2]\n",
       "------------------\n",
       "type: 4 * ?float64</pre>"
      ],
      "text/plain": [
       "<Array [0, 0.00892, 1.99, 2] type='4 * ?float64'>"
      ]
     },
     "metadata": {},
     "output_type": "display_data"
    },
    {
     "data": {
      "text/html": [
       "<pre>[[0],\n",
       " [0, 0],\n",
       " [0, 0, 0],\n",
       " [0, 0, 0, 0]]\n",
       "--------------------------------\n",
       "type: 4 * option[var * ?float64]</pre>"
      ],
      "text/plain": [
       "<Array [[0], [0, 0], [...], [0, 0, 0, 0]] type='4 * option[var * ?float64]'>"
      ]
     },
     "metadata": {},
     "output_type": "display_data"
    }
   ],
   "source": [
    "config['candidates'] = 4\n",
    "config['voters'] = 10000\n",
    "config['considerations'] = yaml.safe_load(\n",
    "'''\n",
    "- Likability:\n",
    "    mean: 1.0\n",
    "'''\n",
    ")\n",
    "result = do_run(config, 5)\n",
    "display(result['cand_regret'][0])\n",
    "display(result['cov_matrix'][0])"
   ]
  },
  {
   "cell_type": "code",
   "execution_count": 228,
   "metadata": {},
   "outputs": [],
   "source": [
    "def get_corr_coeffs(result, trial_no):\n",
    "    covm = result['cov_matrix'][trial_no]\n",
    "    ncand = len(covm)\n",
    "    cc = np.eye(ncand, dtype=np.float64)\n",
    "    sigmas = []\n",
    "    for i in range(ncand):\n",
    "        sigmas.append(np.sqrt(covm[(i, i)]))\n",
    "    print(sigmas)\n",
    "    for ix in range(ncand):\n",
    "        for iy in range(ix):\n",
    "            cc[(ix, iy)] = covm[(ix, iy)] / sigmas[ix] / sigmas[iy]\n",
    "    return cc"
   ]
  },
  {
   "cell_type": "code",
   "execution_count": 231,
   "metadata": {},
   "outputs": [
    {
     "name": "stdout",
     "output_type": "stream",
     "text": [
      "[np.float64(2.110951164381278), np.float64(1.725697028135377), np.float64(1.7006315355210861), np.float64(1.4473983208331664)]\n"
     ]
    },
    {
     "data": {
      "text/plain": [
       "array([[ 1.        ,  0.        ,  0.        ,  0.        ],\n",
       "       [-0.91255087,  1.        ,  0.        ,  0.        ],\n",
       "       [ 0.92302302, -0.7848075 ,  1.        ,  0.        ],\n",
       "       [-0.81113237,  0.9651004 , -0.63174041,  1.        ]])"
      ]
     },
     "metadata": {},
     "output_type": "display_data"
    }
   ],
   "source": [
    "display(get_corr_coeffs(result, 0))"
   ]
  },
  {
   "cell_type": "code",
   "execution_count": 235,
   "metadata": {},
   "outputs": [
    {
     "name": "stdout",
     "output_type": "stream",
     "text": [
      "[np.float64(0.9948045570651918), np.float64(1.0011200090887933), np.float64(1.0014856574876458), np.float64(1.004928151257509)]\n"
     ]
    },
    {
     "data": {
      "text/plain": [
       "array([[ 1.        ,  0.        ,  0.        ,  0.        ],\n",
       "       [-0.01098302,  1.        ,  0.        ,  0.        ],\n",
       "       [-0.0057799 ,  0.00444545,  1.        ,  0.        ],\n",
       "       [ 0.0056485 , -0.01203408,  0.01468783,  1.        ]])"
      ]
     },
     "metadata": {},
     "output_type": "display_data"
    },
    {
     "name": "stdout",
     "output_type": "stream",
     "text": [
      "[np.float64(1.0065255493621288), np.float64(0.998540921410261), np.float64(1.0020417678612101), np.float64(0.9982811889837808)]\n"
     ]
    },
    {
     "data": {
      "text/plain": [
       "array([[ 1.        ,  0.        ,  0.        ,  0.        ],\n",
       "       [ 0.02094225,  1.        ,  0.        ,  0.        ],\n",
       "       [ 0.01240603,  0.00624386,  1.        ,  0.        ],\n",
       "       [-0.003224  , -0.00306613, -0.00120506,  1.        ]])"
      ]
     },
     "metadata": {},
     "output_type": "display_data"
    },
    {
     "name": "stdout",
     "output_type": "stream",
     "text": [
      "[np.float64(0.9964617508629647), np.float64(0.9966730766811684), np.float64(1.0014015346113174), np.float64(1.011845926550513)]\n"
     ]
    },
    {
     "data": {
      "text/plain": [
       "array([[ 1.        ,  0.        ,  0.        ,  0.        ],\n",
       "       [-0.01173113,  1.        ,  0.        ,  0.        ],\n",
       "       [ 0.00300255,  0.01332203,  1.        ,  0.        ],\n",
       "       [ 0.00422992,  0.00458867, -0.02422909,  1.        ]])"
      ]
     },
     "metadata": {},
     "output_type": "display_data"
    },
    {
     "name": "stdout",
     "output_type": "stream",
     "text": [
      "[np.float64(1.0028046663451333), np.float64(0.9973422849777929), np.float64(1.001718554467597), np.float64(1.001001815016451)]\n"
     ]
    },
    {
     "data": {
      "text/plain": [
       "array([[ 1.00000000e+00,  0.00000000e+00,  0.00000000e+00,\n",
       "         0.00000000e+00],\n",
       "       [ 1.96392678e-02,  1.00000000e+00,  0.00000000e+00,\n",
       "         0.00000000e+00],\n",
       "       [ 2.20155134e-03, -5.74468956e-04,  1.00000000e+00,\n",
       "         0.00000000e+00],\n",
       "       [-1.69129125e-03,  1.47832724e-02, -3.48291790e-03,\n",
       "         1.00000000e+00]])"
      ]
     },
     "metadata": {},
     "output_type": "display_data"
    }
   ],
   "source": [
    "config['candidates'] = 4\n",
    "config['voters'] = 10000\n",
    "config['considerations'] = yaml.safe_load(\n",
    "'''\n",
    "- Irrational:\n",
    "    sigma: 1.0\n",
    "    camps: 2\n",
    "    individualism_deg: 90\n",
    "'''\n",
    ")\n",
    "result = do_run(config, 5)\n",
    "display(get_corr_coeffs(result, 0))\n",
    "display(get_corr_coeffs(result, 1))\n",
    "display(get_corr_coeffs(result, 2))\n",
    "display(get_corr_coeffs(result, 3))"
   ]
  },
  {
   "cell_type": "code",
   "execution_count": 200,
   "metadata": {},
   "outputs": [
    {
     "data": {
      "text/plain": [
       "array([[0.3090016 , 2.09904798, 0.82317008, 3.13087807, 1.61064933,\n",
       "        2.01657254, 2.91759999, 1.55519431, 2.89235991, 2.97551052],\n",
       "       [2.24721985, 2.65914812, 1.86329343, 2.21673783, 0.84797068,\n",
       "        0.56396652, 0.44596168, 3.40639598, 0.65299382, 1.77379581],\n",
       "       [0.58539738, 1.22377722, 3.06071522, 1.3184892 , 0.48842566,\n",
       "        0.79741721, 2.61924207, 3.07438678, 1.22978133, 3.12792367],\n",
       "       [2.85872826, 0.52028883, 1.38963001, 0.35922687, 0.16900879,\n",
       "        1.34662276, 0.17156912, 1.73254542, 1.48895542, 1.27941031],\n",
       "       [0.78623712, 0.66519608, 1.30919134, 2.73176796, 1.99823116,\n",
       "        3.12736477, 3.38542127, 1.83569564, 3.25960743, 1.54455224]])"
      ]
     },
     "execution_count": 200,
     "metadata": {},
     "output_type": "execute_result"
    }
   ],
   "source": [
    "utilities = np.random.uniform(0., np.sqrt(12.), 50)\n",
    "utilities = np.reshape(utilities, newshape=(5, 10))\n",
    "utilities"
   ]
  },
  {
   "cell_type": "code",
   "execution_count": 201,
   "metadata": {},
   "outputs": [
    {
     "name": "stdout",
     "output_type": "stream",
     "text": [
      "[[0.3090016  2.24721985 0.58539738 2.85872826 0.78623712]\n",
      " [2.09904798 2.65914812 1.22377722 0.52028883 0.66519608]\n",
      " [0.82317008 1.86329343 3.06071522 1.38963001 1.30919134]\n",
      " [3.13087807 2.21673783 1.3184892  0.35922687 2.73176796]\n",
      " [1.61064933 0.84797068 0.48842566 0.16900879 1.99823116]\n",
      " [2.01657254 0.56396652 0.79741721 1.34662276 3.12736477]\n",
      " [2.91759999 0.44596168 2.61924207 0.17156912 3.38542127]\n",
      " [1.55519431 3.40639598 3.07438678 1.73254542 1.83569564]\n",
      " [2.89235991 0.65299382 1.22978133 1.48895542 3.25960743]\n",
      " [2.97551052 1.77379581 3.12792367 1.27941031 1.54455224]]\n"
     ]
    }
   ],
   "source": [
    "np.set_printoptions(threshold=100000)\n",
    "print(str(utilities.transpose()))"
   ]
  },
  {
   "cell_type": "code",
   "execution_count": 202,
   "metadata": {},
   "outputs": [
    {
     "data": {
      "text/plain": [
       "array([[ 0.94020538, -0.32073684,  0.16108757, -0.49611513,  0.62033183],\n",
       "       [-0.32073684,  1.01169877,  0.31368278,  0.27153381, -0.70086438],\n",
       "       [ 0.16108757,  0.31368278,  1.19057637, -0.00328159, -0.05275154],\n",
       "       [-0.49611513,  0.27153381, -0.00328159,  0.71388613, -0.31396175],\n",
       "       [ 0.62033183, -0.70086438, -0.05275154, -0.31396175,  1.02640331]])"
      ]
     },
     "execution_count": 202,
     "metadata": {},
     "output_type": "execute_result"
    }
   ],
   "source": [
    "np.cov(utilities)"
   ]
  },
  {
   "cell_type": "code",
   "execution_count": 220,
   "metadata": {},
   "outputs": [
    {
     "data": {
      "text/plain": [
       "array([[ 0.99333244, -0.00444264,  0.01690256,  0.0234099 , -0.03744667],\n",
       "       [-0.00444264,  1.01777285, -0.02395978, -0.02019903, -0.06810528],\n",
       "       [ 0.01690256, -0.02395978,  0.99728841, -0.08037311, -0.03790731],\n",
       "       [ 0.0234099 , -0.02019903, -0.08037311,  1.00854158,  0.02726133],\n",
       "       [-0.03744667, -0.06810528, -0.03790731,  0.02726133,  0.99367376]])"
      ]
     },
     "execution_count": 220,
     "metadata": {},
     "output_type": "execute_result"
    }
   ],
   "source": [
    "utilities = np.random.uniform(0., np.sqrt(12.), 5000)\n",
    "utilities = np.reshape(utilities, newshape=(5, 1000))\n",
    "np.cov(utilities)"
   ]
  },
  {
   "cell_type": "code",
   "execution_count": 277,
   "metadata": {},
   "outputs": [
    {
     "name": "stdout",
     "output_type": "stream",
     "text": [
      "[np.float64(1.1287110091352806), np.float64(1.032109855620688), np.float64(1.3461672012653416), np.float64(0.9533230294679127)]\n"
     ]
    },
    {
     "data": {
      "text/plain": [
       "array([[ 1.        ,  0.        ,  0.        ,  0.        ],\n",
       "       [-0.54892674,  1.        ,  0.        ,  0.        ],\n",
       "       [ 0.92176246, -0.75311506,  1.        ,  0.        ],\n",
       "       [-0.40796007,  0.98008771, -0.63788827,  1.        ]])"
      ]
     },
     "metadata": {},
     "output_type": "display_data"
    },
    {
     "name": "stdout",
     "output_type": "stream",
     "text": [
      "[np.float64(0.819918112352644), np.float64(0.9482917975727155), np.float64(0.8641959032228944), np.float64(0.8449585108798815)]\n"
     ]
    },
    {
     "data": {
      "text/plain": [
       "array([[1.        , 0.        , 0.        , 0.        ],\n",
       "       [0.85582997, 1.        , 0.        , 0.        ],\n",
       "       [0.60756034, 0.15686375, 1.        , 0.        ],\n",
       "       [0.6748163 , 0.23935748, 0.99530548, 1.        ]])"
      ]
     },
     "metadata": {},
     "output_type": "display_data"
    },
    {
     "name": "stdout",
     "output_type": "stream",
     "text": [
      "[np.float64(0.8422491927110479), np.float64(1.047319651610908), np.float64(1.1836007981186247), np.float64(1.174304279588924)]\n"
     ]
    },
    {
     "data": {
      "text/plain": [
       "array([[ 1.        ,  0.        ,  0.        ,  0.        ],\n",
       "       [ 0.01355423,  1.        ,  0.        ,  0.        ],\n",
       "       [ 0.67120621, -0.65080222,  1.        ,  0.        ],\n",
       "       [ 0.68166488, -0.64141072,  0.99982942,  1.        ]])"
      ]
     },
     "metadata": {},
     "output_type": "display_data"
    },
    {
     "name": "stdout",
     "output_type": "stream",
     "text": [
      "[np.float64(0.872599017437322), np.float64(0.8003349482034474), np.float64(1.110727742826908), np.float64(0.974612006112627)]\n"
     ]
    },
    {
     "data": {
      "text/plain": [
       "array([[ 1.        ,  0.        ,  0.        ,  0.        ],\n",
       "       [ 0.62130842,  1.        ,  0.        ,  0.        ],\n",
       "       [ 0.82984412,  0.14063478,  1.        ,  0.        ],\n",
       "       [ 0.020431  ,  0.75907463, -0.46486468,  1.        ]])"
      ]
     },
     "metadata": {},
     "output_type": "display_data"
    }
   ],
   "source": [
    "config['candidates'] = 4\n",
    "config['voters'] = 10000\n",
    "config['considerations'] = yaml.safe_load(\n",
    "'''\n",
    "- Issues:\n",
    "    issues:\n",
    "    - halfcsep: 1.0\n",
    "      halfvsep: 1.0\n",
    "      sigma: 1.0\n",
    "'''\n",
    ")\n",
    "result = do_run(config, 5)\n",
    "display(get_corr_coeffs(result, 0))\n",
    "display(get_corr_coeffs(result, 1))\n",
    "display(get_corr_coeffs(result, 2))\n",
    "display(get_corr_coeffs(result, 3))"
   ]
  },
  {
   "cell_type": "code",
   "execution_count": 275,
   "metadata": {},
   "outputs": [
    {
     "name": "stdout",
     "output_type": "stream",
     "text": [
      "candidates: 4\n",
      "considerations:\n",
      "- Likability:\n",
      "    mean: 0.1\n",
      "- Issues:\n",
      "    issues:\n",
      "    - halfcsep: 2.0\n",
      "      halfvsep: 2.0\n",
      "      sigma: 1.0\n",
      "    - halfcsep: 0.75\n",
      "      halfvsep: 0.75\n",
      "      sigma: 0.5\n",
      "methods:\n",
      "- Plurality:\n",
      "    strat: Honest\n",
      "- Plurality:\n",
      "    strat: Strategic\n",
      "- Range:\n",
      "    nranks: 10\n",
      "    strat: Honest\n",
      "- Range:\n",
      "    nranks: 10\n",
      "    strat: Strategic\n",
      "- Range:\n",
      "    nranks: 2\n",
      "    strat: Honest\n",
      "- Range:\n",
      "    nranks: 2\n",
      "    strat: Strategic\n",
      "- InstantRunoff: {}\n",
      "- Borda: {}\n",
      "- Multivote:\n",
      "    spread_fact: 1.0\n",
      "    strat: Honest\n",
      "    votes: 3\n",
      "primary_method:\n",
      "  RRV:\n",
      "    k: 0.5\n",
      "    ranks: 21\n",
      "    strat: Honest\n",
      "voters: 101\n",
      "\n"
     ]
    }
   ],
   "source": [
    "print(yaml.safe_dump(config.unwrap()))"
   ]
  },
  {
   "cell_type": "code",
   "execution_count": null,
   "metadata": {},
   "outputs": [],
   "source": []
  }
 ],
 "metadata": {
  "kernelspec": {
   "display_name": "env",
   "language": "python",
   "name": "python3"
  },
  "language_info": {
   "codemirror_mode": {
    "name": "ipython",
    "version": 3
   },
   "file_extension": ".py",
   "mimetype": "text/x-python",
   "name": "python",
   "nbconvert_exporter": "python",
   "pygments_lexer": "ipython3",
   "version": "3.12.6"
  }
 },
 "nbformat": 4,
 "nbformat_minor": 2
}
